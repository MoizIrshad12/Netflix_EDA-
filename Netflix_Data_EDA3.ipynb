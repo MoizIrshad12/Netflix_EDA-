{
 "cells": [
  {
   "cell_type": "markdown",
   "id": "b703b752",
   "metadata": {},
   "source": [
    "# 1.About Data \n",
    " Netflix_Data"
   ]
  },
  {
   "cell_type": "markdown",
   "id": "634d8d01",
   "metadata": {},
   "source": [
    "# 2.Objectives\n",
    "- To clean and understand the basic structure of the Netflix dataset.  \n",
    "- To identify key patterns and summaries from the data through simple exploratory analysis.\n"
   ]
  },
  {
   "cell_type": "markdown",
   "id": "3c4484f1",
   "metadata": {},
   "source": [
    "# 3.Kernel Used\n",
    "3.13.5"
   ]
  },
  {
   "cell_type": "markdown",
   "id": "b7f0ae2e",
   "metadata": {},
   "source": [
    "# 4.Importing Libraries"
   ]
  },
  {
   "cell_type": "code",
   "execution_count": null,
   "id": "d9444cf9",
   "metadata": {},
   "outputs": [],
   "source": [
    "import pandas as pd \n",
    "import numpy as np\n",
    "import seaborn as sns\n",
    "import matplotlib.pyplot as plt\n",
    "%matplotlib inline "
   ]
  },
  {
   "cell_type": "markdown",
   "id": "a7b7109b",
   "metadata": {},
   "source": [
    "# 5.Data Loading"
   ]
  },
  {
   "cell_type": "code",
   "execution_count": null,
   "id": "16188a06",
   "metadata": {},
   "outputs": [],
   "source": [
    "data = pd.read_csv(r\"C:\\Users\\Assasin\\OneDrive\\Desktop\\Project1\\venv\\data2.csv.csv\")\n"
   ]
  },
  {
   "cell_type": "markdown",
   "id": "3282e3f4",
   "metadata": {},
   "source": [
    "Top 5 Rows Of the Data"
   ]
  },
  {
   "cell_type": "code",
   "execution_count": null,
   "id": "17863225",
   "metadata": {},
   "outputs": [],
   "source": [
    "data.head(5)"
   ]
  },
  {
   "cell_type": "markdown",
   "id": "6a6191e8",
   "metadata": {},
   "source": [
    "Set option for Maximum Rows and Columns "
   ]
  },
  {
   "cell_type": "code",
   "execution_count": null,
   "id": "12d7a9b1",
   "metadata": {},
   "outputs": [],
   "source": [
    "pd.set_option('display.max_rows',None)\n",
    "pd.set_option('display.max_columns',None)\n",
    "#hide warnings \n",
    "import warnings\n",
    "warnings.filterwarnings('ignore')"
   ]
  },
  {
   "cell_type": "code",
   "execution_count": null,
   "id": "f9466c9b",
   "metadata": {},
   "outputs": [],
   "source": [
    "# Total Columns in dataset\n",
    "print(f\"The columns in the dataset are: {data.columns}\")"
   ]
  },
  {
   "cell_type": "code",
   "execution_count": null,
   "id": "c665b1a1",
   "metadata": {},
   "outputs": [],
   "source": [
    "#Total Numbers of rows and Columns in the dataset\n",
    "print(f\"The Total Numebers of rows are:{data.shape[0]} and the total numbers of columns are :{data.shape[1]}\")"
   ]
  },
  {
   "cell_type": "code",
   "execution_count": null,
   "id": "6e805f49",
   "metadata": {},
   "outputs": [],
   "source": [
    "data.info()"
   ]
  },
  {
   "cell_type": "code",
   "execution_count": null,
   "id": "b6ddb606",
   "metadata": {},
   "outputs": [],
   "source": [
    "data.describe()"
   ]
  },
  {
   "cell_type": "markdown",
   "id": "350f82b4",
   "metadata": {},
   "source": [
    "convert to numeric "
   ]
  },
  {
   "cell_type": "code",
   "execution_count": null,
   "id": "d429fa28",
   "metadata": {},
   "outputs": [],
   "source": [
    "data['show_id'].unique()"
   ]
  },
  {
   "cell_type": "code",
   "execution_count": null,
   "id": "f285e1ea",
   "metadata": {},
   "outputs": [],
   "source": [
    "data['show_id'].isnull().sum()"
   ]
  },
  {
   "cell_type": "code",
   "execution_count": null,
   "id": "c871a6ed",
   "metadata": {},
   "outputs": [],
   "source": [
    "data['show_id'].loc[data['show_id'].str.contains('s')].value_counts().sum()"
   ]
  },
  {
   "cell_type": "markdown",
   "id": "cdd72695",
   "metadata": {},
   "source": [
    "no missing values "
   ]
  },
  {
   "cell_type": "code",
   "execution_count": null,
   "id": "5c3a2203",
   "metadata": {},
   "outputs": [],
   "source": [
    "\n",
    "data[\"show_id\"] = data[\"show_id\"].str.extract(r'(\\d+)').astype(int)\n"
   ]
  },
  {
   "cell_type": "code",
   "execution_count": null,
   "id": "009de185",
   "metadata": {},
   "outputs": [],
   "source": [
    "data['show_id']"
   ]
  },
  {
   "cell_type": "markdown",
   "id": "e081d7aa",
   "metadata": {},
   "source": [
    "Rename The Column"
   ]
  },
  {
   "cell_type": "code",
   "execution_count": null,
   "id": "baf19519",
   "metadata": {},
   "outputs": [],
   "source": [
    "data.rename(columns={'show_id':\"ID\"},inplace=True)"
   ]
  },
  {
   "cell_type": "code",
   "execution_count": null,
   "id": "fe0a6474",
   "metadata": {},
   "outputs": [],
   "source": [
    "data.head(2)"
   ]
  },
  {
   "cell_type": "code",
   "execution_count": null,
   "id": "ffc54e23",
   "metadata": {},
   "outputs": [],
   "source": [
    "data['rating'].unique()"
   ]
  },
  {
   "cell_type": "code",
   "execution_count": null,
   "id": "4043911f",
   "metadata": {},
   "outputs": [],
   "source": [
    "data['duration'].unique()"
   ]
  },
  {
   "cell_type": "markdown",
   "id": "8a48196f",
   "metadata": {},
   "source": [
    "1.min\n",
    "2.seasons\n",
    "3.Nan"
   ]
  },
  {
   "cell_type": "code",
   "execution_count": null,
   "id": "db51f974",
   "metadata": {},
   "outputs": [],
   "source": [
    "#making a function to remove these string values \n",
    "\n",
    "def clean_duration(value):\n",
    "    if isinstance(value, str):\n",
    "        value = value.strip()\n",
    "\n",
    "        if \"min\" in value:\n",
    "            return int(value.replace(\"min\", \"\").strip())\n",
    "        elif \"Season\" in value:\n",
    "            return int(value.replace(\"Seasons\", \"\").replace(\"Season\", \"\").strip())\n",
    "\n",
    "    return np.nan\n"
   ]
  },
  {
   "cell_type": "code",
   "execution_count": null,
   "id": "8265afbb",
   "metadata": {},
   "outputs": [],
   "source": [
    "data[\"duration\"] = data[\"duration\"].apply(clean_duration)\n",
    "\n",
    "# data[\"is_movie\"] = data[\"duration\"].str.contains(\"min\", na=False)\n",
    "# data[\"is_tvshow\"] = data[\"duration\"].str.contains(\"Season\", na=False)\n"
   ]
  },
  {
   "cell_type": "code",
   "execution_count": null,
   "id": "08591dfa",
   "metadata": {},
   "outputs": [],
   "source": [
    "data['duration']"
   ]
  },
  {
   "cell_type": "code",
   "execution_count": null,
   "id": "3cfa3305",
   "metadata": {},
   "outputs": [],
   "source": [
    "data = data.dropna(subset=[\"duration\"])\n"
   ]
  },
  {
   "cell_type": "code",
   "execution_count": null,
   "id": "7900e913",
   "metadata": {},
   "outputs": [],
   "source": [
    "data['duration'].isnull().sum()"
   ]
  },
  {
   "cell_type": "code",
   "execution_count": null,
   "id": "cdbc4087",
   "metadata": {},
   "outputs": [],
   "source": [
    "data.shape"
   ]
  },
  {
   "cell_type": "code",
   "execution_count": null,
   "id": "b882acc3",
   "metadata": {},
   "outputs": [],
   "source": [
    "data.head(2)"
   ]
  },
  {
   "cell_type": "code",
   "execution_count": null,
   "id": "ac2debe1",
   "metadata": {},
   "outputs": [],
   "source": [
    "data['release_year'].unique()"
   ]
  },
  {
   "cell_type": "code",
   "execution_count": null,
   "id": "e172674e",
   "metadata": {},
   "outputs": [],
   "source": [
    "data['date_added'].unique()"
   ]
  },
  {
   "cell_type": "markdown",
   "id": "710a077d",
   "metadata": {},
   "source": [
    "checking for Null values in Date_Added"
   ]
  },
  {
   "cell_type": "code",
   "execution_count": null,
   "id": "6b26ae64",
   "metadata": {},
   "outputs": [],
   "source": [
    "data['date_added'].isnull().sum()"
   ]
  },
  {
   "cell_type": "code",
   "execution_count": null,
   "id": "e48e6940",
   "metadata": {},
   "outputs": [],
   "source": [
    "data = data.dropna(subset=[\"date_added\"])\n"
   ]
  },
  {
   "cell_type": "code",
   "execution_count": null,
   "id": "fbcf5e3f",
   "metadata": {},
   "outputs": [],
   "source": [
    "data['date_added'].isnull().sum()"
   ]
  },
  {
   "cell_type": "markdown",
   "id": "18feca18",
   "metadata": {},
   "source": [
    "Converting string To Date_Time"
   ]
  },
  {
   "cell_type": "code",
   "execution_count": null,
   "id": "39dea163",
   "metadata": {},
   "outputs": [],
   "source": [
    "data[\"date_added\"] = pd.to_datetime(data[\"date_added\"], errors=\"coerce\")\n"
   ]
  },
  {
   "cell_type": "code",
   "execution_count": null,
   "id": "360778ae",
   "metadata": {},
   "outputs": [],
   "source": [
    "data[\"added_year\"] = data[\"date_added\"].dt.year\n",
    "\n",
    "data[\"added_month\"] = data[\"date_added\"].dt.month\n",
    "\n",
    "data[\"added_day\"] = data[\"date_added\"].dt.day\n",
    "\n",
    "# Weekday (0=Monday, 6=Sunday)\n",
    "data[\"added_weekday\"] = data[\"date_added\"].dt.weekday\n"
   ]
  },
  {
   "cell_type": "code",
   "execution_count": null,
   "id": "d863a529",
   "metadata": {},
   "outputs": [],
   "source": [
    "data.head(2)"
   ]
  },
  {
   "cell_type": "code",
   "execution_count": null,
   "id": "edea2c68",
   "metadata": {},
   "outputs": [],
   "source": [
    "data['date_added'].value_counts()"
   ]
  },
  {
   "cell_type": "code",
   "execution_count": null,
   "id": "e42666ca",
   "metadata": {},
   "outputs": [],
   "source": [
    "data['director'].unique()"
   ]
  },
  {
   "cell_type": "code",
   "execution_count": null,
   "id": "1c9d44ee",
   "metadata": {},
   "outputs": [],
   "source": [
    "data['director'].isnull().sum()"
   ]
  },
  {
   "cell_type": "code",
   "execution_count": null,
   "id": "b928af1e",
   "metadata": {},
   "outputs": [],
   "source": [
    "#most-Common director name\n",
    "data[\"director\"].value_counts().head(10)\n",
    "\n"
   ]
  },
  {
   "cell_type": "markdown",
   "id": "414eb550",
   "metadata": {},
   "source": [
    "Filling Null values with Unknown"
   ]
  },
  {
   "cell_type": "code",
   "execution_count": null,
   "id": "1a58b9e9",
   "metadata": {},
   "outputs": [],
   "source": [
    "data[\"director\"] = data[\"director\"].fillna(\"Unknown\")\n"
   ]
  },
  {
   "cell_type": "code",
   "execution_count": null,
   "id": "e58eebca",
   "metadata": {},
   "outputs": [],
   "source": [
    "data['director'].isnull().sum()"
   ]
  },
  {
   "cell_type": "code",
   "execution_count": null,
   "id": "1cb80c1b",
   "metadata": {},
   "outputs": [],
   "source": [
    "data['director'].value_counts()"
   ]
  },
  {
   "cell_type": "code",
   "execution_count": null,
   "id": "423b9c32",
   "metadata": {},
   "outputs": [],
   "source": [
    "data.head(3)"
   ]
  },
  {
   "cell_type": "markdown",
   "id": "aac2bb4f",
   "metadata": {},
   "source": [
    "Checking Null Values in type,cast title and country"
   ]
  },
  {
   "cell_type": "code",
   "execution_count": null,
   "id": "8052f45c",
   "metadata": {},
   "outputs": [],
   "source": [
    "data['type'].isnull().sum()"
   ]
  },
  {
   "cell_type": "code",
   "execution_count": null,
   "id": "d1f3e3c4",
   "metadata": {},
   "outputs": [],
   "source": [
    "data['title'].isnull().sum()"
   ]
  },
  {
   "cell_type": "code",
   "execution_count": null,
   "id": "04e34a81",
   "metadata": {},
   "outputs": [],
   "source": [
    "data['cast'].isnull().sum()"
   ]
  },
  {
   "cell_type": "code",
   "execution_count": null,
   "id": "24b38666",
   "metadata": {},
   "outputs": [],
   "source": [
    "data['cast'].value_counts()"
   ]
  },
  {
   "cell_type": "code",
   "execution_count": null,
   "id": "1a85c7f9",
   "metadata": {},
   "outputs": [],
   "source": [
    "data[\"cast\"] = data[\"cast\"].fillna(\"Unknown\")"
   ]
  },
  {
   "cell_type": "code",
   "execution_count": null,
   "id": "0adc3882",
   "metadata": {},
   "outputs": [],
   "source": [
    "data['cast'].isnull().sum()"
   ]
  },
  {
   "cell_type": "code",
   "execution_count": null,
   "id": "9566403c",
   "metadata": {},
   "outputs": [],
   "source": [
    "data.head(2)"
   ]
  },
  {
   "cell_type": "code",
   "execution_count": null,
   "id": "56cb09ee",
   "metadata": {},
   "outputs": [],
   "source": [
    "data['country'].isnull().sum()"
   ]
  },
  {
   "cell_type": "markdown",
   "id": "69a665fa",
   "metadata": {},
   "source": [
    "Replacing Null values in Country with Unknown"
   ]
  },
  {
   "cell_type": "code",
   "execution_count": null,
   "id": "570be0be",
   "metadata": {},
   "outputs": [],
   "source": [
    "data['country']=data['country'].fillna(\"Unknown\")"
   ]
  },
  {
   "cell_type": "code",
   "execution_count": null,
   "id": "e97c30c1",
   "metadata": {},
   "outputs": [],
   "source": [
    "data['country'].isnull().sum()"
   ]
  },
  {
   "cell_type": "code",
   "execution_count": null,
   "id": "73f24d2b",
   "metadata": {},
   "outputs": [],
   "source": [
    "data.info()"
   ]
  },
  {
   "cell_type": "code",
   "execution_count": null,
   "id": "9405e6f3",
   "metadata": {},
   "outputs": [],
   "source": [
    "data.shape"
   ]
  },
  {
   "cell_type": "markdown",
   "id": "91c9c032",
   "metadata": {},
   "source": [
    "Checking For Null Values in Rating"
   ]
  },
  {
   "cell_type": "code",
   "execution_count": null,
   "id": "18555ea1",
   "metadata": {},
   "outputs": [],
   "source": [
    "data['rating'].isnull().sum()"
   ]
  },
  {
   "cell_type": "markdown",
   "id": "5831eb57",
   "metadata": {},
   "source": [
    "Filling with most Common Rating"
   ]
  },
  {
   "cell_type": "code",
   "execution_count": null,
   "id": "1fc477ba",
   "metadata": {},
   "outputs": [],
   "source": [
    "data[\"rating\"] = data[\"rating\"].fillna(data[\"rating\"].mode()[0])"
   ]
  },
  {
   "cell_type": "code",
   "execution_count": null,
   "id": "c91ce97e",
   "metadata": {},
   "outputs": [],
   "source": [
    "data['rating'].isnull().sum()"
   ]
  },
  {
   "cell_type": "code",
   "execution_count": null,
   "id": "f61ac843",
   "metadata": {},
   "outputs": [],
   "source": [
    "data.info()"
   ]
  },
  {
   "cell_type": "markdown",
   "id": "6960d4a8",
   "metadata": {},
   "source": [
    "Total Movies Vs Tv Shows "
   ]
  },
  {
   "cell_type": "code",
   "execution_count": null,
   "id": "8061cde2",
   "metadata": {},
   "outputs": [],
   "source": [
    "data[\"type\"].value_counts()"
   ]
  },
  {
   "cell_type": "markdown",
   "id": "16cb0513",
   "metadata": {},
   "source": [
    "10 countries with most shows/movies:"
   ]
  },
  {
   "cell_type": "code",
   "execution_count": null,
   "id": "c4e41904",
   "metadata": {},
   "outputs": [],
   "source": [
    "data[\"country\"].value_counts().head(10)"
   ]
  },
  {
   "cell_type": "markdown",
   "id": "4ac5bafc",
   "metadata": {},
   "source": [
    "Top  Directors:"
   ]
  },
  {
   "cell_type": "code",
   "execution_count": null,
   "id": "c2f08f1d",
   "metadata": {},
   "outputs": [],
   "source": [
    "print(data[\"director\"].value_counts().head(10))"
   ]
  },
  {
   "cell_type": "markdown",
   "id": "daff1bbd",
   "metadata": {},
   "source": [
    "Newest Movie/Tv Shows:"
   ]
  },
  {
   "cell_type": "code",
   "execution_count": null,
   "id": "626e7514",
   "metadata": {},
   "outputs": [],
   "source": [
    "newest = data.sort_values(by=\"release_year\", ascending=False)[[\"title\", \"release_year\", \"type\"]].head(5).reset_index(drop=True)\n",
    "newest\n",
    "#we are reseting index so we don't see any random index "
   ]
  },
  {
   "cell_type": "markdown",
   "id": "fcce8a46",
   "metadata": {},
   "source": [
    "Oldest Movie/TV show:"
   ]
  },
  {
   "cell_type": "code",
   "execution_count": null,
   "id": "7392a132",
   "metadata": {},
   "outputs": [],
   "source": [
    "oldest = data.sort_values(by=\"release_year\", ascending=True)[[\"title\", \"release_year\", \"type\"]].head(5).reset_index(drop=True)\n",
    "oldest"
   ]
  },
  {
   "cell_type": "markdown",
   "id": "877b4fa7",
   "metadata": {},
   "source": [
    "Movies /Tv shows genres:"
   ]
  },
  {
   "cell_type": "code",
   "execution_count": null,
   "id": "ea78d365",
   "metadata": {},
   "outputs": [],
   "source": [
    "data[\"listed_in\"].value_counts().head(10)"
   ]
  },
  {
   "cell_type": "markdown",
   "id": "cdd35bf2",
   "metadata": {},
   "source": [
    "Identifying Numeric Columns:"
   ]
  },
  {
   "cell_type": "code",
   "execution_count": null,
   "id": "e0a0426d",
   "metadata": {},
   "outputs": [],
   "source": [
    "numeric_data = data.select_dtypes(include=['int64', 'float64'])\n",
    "numeric_data.head(5)"
   ]
  },
  {
   "cell_type": "markdown",
   "id": "544309eb",
   "metadata": {},
   "source": [
    "Making correlation Matrix:"
   ]
  },
  {
   "cell_type": "code",
   "execution_count": null,
   "id": "ba157fc6",
   "metadata": {},
   "outputs": [],
   "source": [
    "correlation_matrix = numeric_data.corr()\n",
    "correlation_matrix"
   ]
  },
  {
   "cell_type": "markdown",
   "id": "a21e6cb3",
   "metadata": {},
   "source": [
    "Correlation of Duration and Release Year:"
   ]
  },
  {
   "cell_type": "code",
   "execution_count": null,
   "id": "0623264d",
   "metadata": {},
   "outputs": [],
   "source": [
    "corr_duration_year = numeric_data['duration'].corr(numeric_data['release_year'])\n",
    "corr_duration_year"
   ]
  },
  {
   "cell_type": "markdown",
   "id": "d768667a",
   "metadata": {},
   "source": [
    "Release Year vs Added Year Correlation:"
   ]
  },
  {
   "cell_type": "code",
   "execution_count": null,
   "id": "75977cc2",
   "metadata": {},
   "outputs": [],
   "source": [
    "release_added_data = numeric_data[['release_year', 'added_year']]\n",
    "release_added_corr = release_added_data.corr()\n",
    "release_added_corr"
   ]
  },
  {
   "cell_type": "markdown",
   "id": "fe9a62db",
   "metadata": {},
   "source": [
    "# Netflix Data Visualization"
   ]
  },
  {
   "cell_type": "code",
   "execution_count": null,
   "id": "38652ab7",
   "metadata": {},
   "outputs": [],
   "source": [
    "# Count of Movies vs TV Shows\n",
    "import seaborn as sns\n",
    "import matplotlib.pyplot as plt\n",
    "\n",
    "sns.countplot(x='type', data=data)\n",
    "plt.title(\"Count of Movies vs TV Shows\")\n",
    "plt.show()\n"
   ]
  },
  {
   "cell_type": "markdown",
   "id": "98c99cf8",
   "metadata": {},
   "source": [
    " # Content Added by Year"
   ]
  },
  {
   "cell_type": "code",
   "execution_count": null,
   "id": "43a6ce09",
   "metadata": {},
   "outputs": [],
   "source": [
    "data['date_added'] = pd.to_datetime(data['date_added'])\n",
    "data['year_added'] = data['date_added'].dt.year\n",
    "\n",
    "data['year_added'].value_counts().sort_index().plot(kind='bar', figsize=(10,4))\n",
    "plt.title(\"Number of Titles Added Each Year\")\n",
    "plt.xlabel(\"Year\")\n",
    "plt.ylabel(\"Count\")\n",
    "plt.show()\n",
    "\n"
   ]
  },
  {
   "cell_type": "markdown",
   "id": "4a8ded7f",
   "metadata": {},
   "source": [
    "# Top 10 Countries Producing Content"
   ]
  },
  {
   "cell_type": "code",
   "execution_count": null,
   "id": "14ab82e7",
   "metadata": {},
   "outputs": [],
   "source": [
    "top_countries = data['country'].value_counts().head(10)\n",
    "top_countries.plot(kind='bar')\n",
    "plt.title(\"Top 10 Content-Producing Countries on Netflix\")\n",
    "plt.xlabel(\"Country\")\n",
    "plt.ylabel(\"Count\")\n",
    "plt.show()"
   ]
  },
  {
   "cell_type": "markdown",
   "id": "b820f06d",
   "metadata": {},
   "source": [
    "# Most Common Genres"
   ]
  },
  {
   "cell_type": "code",
   "execution_count": null,
   "id": "dc417eb3",
   "metadata": {},
   "outputs": [],
   "source": [
    "data['listed_in'].value_counts().head(10).plot(kind='bar')\n",
    "plt.title(\"Top 10 Genres on Netflix\")\n",
    "plt.xlabel(\"Genre\")\n",
    "plt.ylabel(\"Count\")\n",
    "plt.show()\n"
   ]
  },
  {
   "cell_type": "markdown",
   "id": "57ee118b",
   "metadata": {},
   "source": [
    "# Release Year Distribution"
   ]
  },
  {
   "cell_type": "code",
   "execution_count": null,
   "id": "a89ee50a",
   "metadata": {},
   "outputs": [],
   "source": [
    "sns.histplot(data['release_year'], bins=30, kde=True)\n",
    "plt.title(\"Distribution of Content by Release Year\")\n",
    "plt.xlabel(\"Release Year\")\n",
    "plt.ylabel(\"Frequency\")\n",
    "plt.show()"
   ]
  }
 ],
 "metadata": {
  "kernelspec": {
   "display_name": "venv",
   "language": "python",
   "name": "python3"
  },
  "language_info": {
   "codemirror_mode": {
    "name": "ipython",
    "version": 3
   },
   "file_extension": ".py",
   "mimetype": "text/x-python",
   "name": "python",
   "nbconvert_exporter": "python",
   "pygments_lexer": "ipython3",
   "version": "3.13.5"
  }
 },
 "nbformat": 4,
 "nbformat_minor": 5
}
